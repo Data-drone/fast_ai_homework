{
 "cells": [
  {
   "cell_type": "code",
   "execution_count": 1,
   "metadata": {},
   "outputs": [],
   "source": [
    "%matplotlib inline\n",
    "from fastai import *"
   ]
  },
  {
   "cell_type": "markdown",
   "metadata": {},
   "source": [
    "In this part of the lecture we explain Stochastic Gradient Descent (SGD) which is an **optimization** method commonly used in neural networks. We will illustrate the concepts with concrete examples."
   ]
  },
  {
   "cell_type": "markdown",
   "metadata": {},
   "source": [
    "#  Linear Regression problem"
   ]
  },
  {
   "cell_type": "markdown",
   "metadata": {},
   "source": [
    "The goal of linear regression is to fit a line to a set of points."
   ]
  },
  {
   "cell_type": "code",
   "execution_count": 2,
   "metadata": {},
   "outputs": [],
   "source": [
    "n=100"
   ]
  },
  {
   "cell_type": "code",
   "execution_count": 8,
   "metadata": {},
   "outputs": [
    {
     "data": {
      "text/plain": [
       "tensor([[ 0.8332,  1.0000],\n",
       "        [ 0.3754,  1.0000],\n",
       "        [ 0.3491,  1.0000],\n",
       "        [ 0.1380,  1.0000],\n",
       "        [-0.2192,  1.0000]])"
      ]
     },
     "execution_count": 8,
     "metadata": {},
     "output_type": "execute_result"
    }
   ],
   "source": [
    "x = torch.ones(n,2)\n",
    "x[:,0].uniform_(-1.,1)\n",
    "x[:5]"
   ]
  },
  {
   "cell_type": "code",
   "execution_count": 9,
   "metadata": {},
   "outputs": [
    {
     "data": {
      "text/plain": [
       "tensor([3., 2.])"
      ]
     },
     "execution_count": 9,
     "metadata": {},
     "output_type": "execute_result"
    }
   ],
   "source": [
    "a = tensor(3.,2); a"
   ]
  },
  {
   "cell_type": "code",
   "execution_count": 18,
   "metadata": {},
   "outputs": [
    {
     "data": {
      "text/plain": [
       "tensor([ 5.4956,  3.8863,  3.3198,  3.1052,  2.0720,  2.6213, -0.2817,  4.8423,\n",
       "         5.8522,  1.7992,  1.7874,  3.8927,  0.6472,  1.2822,  1.5839,  5.0449,\n",
       "         2.3415,  0.4715,  4.6489,  0.9406,  4.7352,  0.2577,  4.3219,  0.2033,\n",
       "         0.0517,  0.0517,  3.2228,  4.5400,  4.8399,  2.6825,  3.1475,  2.6549,\n",
       "         1.3179,  1.6123,  4.5509,  4.4697,  2.2735,  5.1998,  4.1036,  5.6596,\n",
       "         4.4879,  3.1116,  2.3904,  0.5538,  2.0006,  4.1214,  3.6066,  3.3697,\n",
       "         4.3523,  1.4563, -0.8695,  0.0183,  1.2149,  2.8874, -0.2559,  1.4781,\n",
       "         1.8280,  1.0965,  4.4867,  1.2351,  3.6766,  1.2118, -0.9297,  2.7209,\n",
       "        -0.6017,  4.9471,  2.1907,  2.7842,  0.7279,  2.5687,  3.0287,  2.3003,\n",
       "         3.2212,  3.0237,  3.2139,  3.4453,  3.8598,  1.0808,  3.0093,  2.1303,\n",
       "         4.3042,  0.0259,  3.1663,  1.6916, -0.3295,  0.4475,  2.1193,  0.9293,\n",
       "         0.1741,  3.6290,  0.0901,  0.4919,  2.3316,  5.0814,  5.1359,  1.8104,\n",
       "         2.6083, -0.0569,  3.6622,  2.7149])"
      ]
     },
     "execution_count": 18,
     "metadata": {},
     "output_type": "execute_result"
    }
   ],
   "source": [
    "y = x@a + torch.rand(n)"
   ]
  },
  {
   "cell_type": "code",
   "execution_count": 19,
   "metadata": {},
   "outputs": [
    {
     "data": {
      "image/png": "[encoded data removed]",
      "text/plain": [
       "<Figure size 432x288 with 1 Axes>"
      ]
     },
     "metadata": {},
     "output_type": "display_data"
    }
   ],
   "source": [
    "plt.scatter(x[:,0], y);"
   ]
  },
  {
   "cell_type": "markdown",
   "metadata": {},
   "source": [
    "You want to find **parameters** (weights) `a` such that you minimize the *error* between the points and the line `x@a`. Note that here `a` is unknown. For a regression problem the most common *error function* or *loss function* is the **mean squared error**. "
   ]
  },
  {
   "cell_type": "code",
   "execution_count": 20,
   "metadata": {},
   "outputs": [],
   "source": [
    "def mse(y_hat, y): return ((y_hat-y)**2).mean()"
   ]
  },
  {
   "cell_type": "markdown",
   "metadata": {},
   "source": [
    "Suppose we believe `a = (-1.0,1.0)` then we can compute `y_hat` which is our *prediction* and then compute our error."
   ]
  },
  {
   "cell_type": "code",
   "execution_count": 22,
   "metadata": {},
   "outputs": [],
   "source": [
    "a = tensor(-1.,1)"
   ]
  },
  {
   "cell_type": "code",
   "execution_count": 24,
   "metadata": {},
   "outputs": [
    {
     "data": {
      "text/plain": [
       "tensor(7.1201)"
      ]
     },
     "execution_count": 24,
     "metadata": {},
     "output_type": "execute_result"
    }
   ],
   "source": [
    "y_hat = x@a\n",
    "mse(y_hat, y)"
   ]
  },
  {
   "cell_type": "code",
   "execution_count": 26,
   "metadata": {},
   "outputs": [
    {
     "data": {
      "image/png": "[encoded data removed]",
      "text/plain": [
       "<Figure size 432x288 with 1 Axes>"
      ]
     },
     "metadata": {},
     "output_type": "display_data"
    }
   ],
   "source": [
    "plt.scatter(x[:,0],y)\n",
    "plt.scatter(x[:,0],y_hat);"
   ]
  },
  {
   "cell_type": "markdown",
   "metadata": {},
   "source": [
    "So far we have specified the *model* (linear regression) and the *evaluation criteria* (or *loss function*). Now we need to handle *optimization*; that is, how do we find the best values for `a`? How do we find the best *fitting* linear regression."
   ]
  },
  {
   "cell_type": "markdown",
   "metadata": {},
   "source": [
    "# Gradient Descent"
   ]
  },
  {
   "cell_type": "markdown",
   "metadata": {},
   "source": [
    "We would like to find the values of a that minimize mse_loss.\n",
    "\n",
    "Gradient descent is an algorithm that minimizes functions. Given a function defined by a set of parameters, gradient descent starts with an initial set of parameter values and iteratively moves toward a set of parameter values that minimize the function. This iterative minimization is achieved by taking steps in the negative direction of the function gradient.\n",
    "\n",
    "Here is gradient descent implemented in PyTorch."
   ]
  },
  {
   "cell_type": "code",
   "execution_count": 28,
   "metadata": {},
   "outputs": [
    {
     "data": {
      "text/plain": [
       "Parameter containing:\n",
       "tensor([-1.,  1.], requires_grad=True)"
      ]
     },
     "execution_count": 28,
     "metadata": {},
     "output_type": "execute_result"
    }
   ],
   "source": [
    "a = nn.Parameter(a); a"
   ]
  },
  {
   "cell_type": "code",
   "execution_count": 29,
   "metadata": {},
   "outputs": [],
   "source": [
    "def update():\n",
    "    y_hat = x@a\n",
    "    loss = mse(y, y_hat)\n",
    "    if t % 10 == 0: print(loss)\n",
    "    loss.backward()\n",
    "    with torch.no_grad():\n",
    "        a.sub_(lr * a.grad)\n",
    "        a.grad.zero_()"
   ]
  },
  {
   "cell_type": "code",
   "execution_count": 32,
   "metadata": {},
   "outputs": [
    {
     "name": "stdout",
     "output_type": "stream",
     "text": [
      "tensor(0.0788, grad_fn=<MeanBackward1>)\n",
      "tensor(0.0788, grad_fn=<MeanBackward1>)\n",
      "tensor(0.0788, grad_fn=<MeanBackward1>)\n",
      "tensor(0.0788, grad_fn=<MeanBackward1>)\n",
      "tensor(0.0788, grad_fn=<MeanBackward1>)\n",
      "tensor(0.0788, grad_fn=<MeanBackward1>)\n",
      "tensor(0.0788, grad_fn=<MeanBackward1>)\n",
      "tensor(0.0788, grad_fn=<MeanBackward1>)\n",
      "tensor(0.0788, grad_fn=<MeanBackward1>)\n",
      "tensor(0.0788, grad_fn=<MeanBackward1>)\n"
     ]
    }
   ],
   "source": [
    "lr = 1e-1\n",
    "for t in range(100): update()"
   ]
  },
  {
   "cell_type": "code",
   "execution_count": 33,
   "metadata": {},
   "outputs": [
    {
     "data": {
      "image/png": "[encoded data removed]",
      "text/plain": [
       "<Figure size 432x288 with 1 Axes>"
      ]
     },
     "metadata": {},
     "output_type": "display_data"
    }
   ],
   "source": [
    "plt.scatter(x[:,0],y)\n",
    "plt.scatter(x[:,0],x@a);"
   ]
  },
  {
   "cell_type": "markdown",
   "metadata": {},
   "source": [
    "# Animate it!"
   ]
  },
  {
   "cell_type": "code",
   "execution_count": 34,
   "metadata": {},
   "outputs": [],
   "source": [
    "from matplotlib import animation, rc\n",
    "rc('animation', html='html5')"
   ]
  },
  {
   "cell_type": "code",
   "execution_count": null,
   "metadata": {},
   "outputs": [
    {
     "name": "stdout",
     "output_type": "stream",
     "text": [
      " Upgraded, advanced or not normally available multimedia packages for Trusty\n",
      "Xenial users go here - https://launchpad.net/~mc3man/+archive/ubuntu/xerus-media\n",
      "\n",
      "*Please note that if using this ppa I would *not* try upgrading to 14.10/15.04, ect. Do a fresh install instead. The intent here is just for users wishing to stay on 14.04*\n",
      "\n",
      "If upgrading releases anyway use ppa-purge *First* -\n",
      "sudo ppa-purge  ppa:mc3man/trusty-media\n",
      "\n",
      "Also note that using this ppa then disabling may cause issue for installing i386 packages like used by wine. So once enabled leave enabled or purge before removing.\n",
      "\n",
      "Additionally if using apt-get * sudo  apt-get dist-upgrade will be needed* at times.(pay attention).  Otherwise package managers may be ok.\n",
      "\n",
      "So typically to enable & first use -\n",
      "sudo add-apt-repository ppa:mc3man/trusty-media\n",
      "sudo apt-get update\n",
      "sudo apt-get dist-upgrade\n",
      "\n",
      "A few notes:\n",
      "gstreamer0.10-ffmpeg - needed for some apps that still use gstreamer-0.10 & also provides h.264 in html5 decoding for firefox < 30.\n",
      "Note that Firefox 30 will support h.264 in html5 thru gstreamer1.0-libav & should be available soon\n",
      "\n",
      "A standalone ppa is here for gstreamer0.10-ffmpeg  -\n",
      "https://launchpad.net/~mc3man/+archive/ubuntu/gstffmpeg-keep\n",
      "\n",
      "Vlc: after upgrading please remove ~/.config/vlc folder to ensure proper runnning\n",
      "\n",
      "Totem - New - have added a --no-existing-session option to open a 2nd instance. Unity users can also find it in the totem quicklist\n",
      "\n",
      "Totem+grilo - it's quite possible this & RB+grilo will show in 14.04 by first point release, if so will probably remove. Also note some plugins work well, some don't at all, bit of a mess. Note that the youtube plugin is again broken, I'll not fix.\n",
      "\n",
      "rhythmbox+grilo - needs to be enabled in rhythmbox > tools > plugins\n",
      "Plus install grilo-plugins if not already\n",
      "\n",
      "mpv - has been removed as 14.04.4-lts requires higher libva than what's in 14.04 or in this ppa\n",
      "Available here with newer libva & i965 driver\n",
      "https://launchpad.net/~mc3man/+archive/mpv-tests\n",
      "\n",
      "mplayer - described here, note mencoder is not inc. & likely will not be, you may be able to use repo mencoder..\n",
      "https://launchpad.net/~mc3man/+archive/mplayer-test\n",
      "\n",
      "fdkaac (fdkaac-encoder) - described here\n",
      "https://launchpad.net/~mc3man/+archive/fdkaac-encoder\n",
      "\n",
      "x264 - for use with ffmpeg from here, supports both 8 & 10 bit encoding\n",
      "\n",
      "ffmpeg -\n",
      "a static build for use of the binaries, installed to /opt/ffmpeg\n",
      "binaries are symlinked in /usr/bin (ffmpeg, ffplay, ffprobe\n",
      "ffmpeg has nvenc enabled, ymmv depending on hardware/source files, ect.\n",
      "See for encoder names -\n",
      " ffmpeg -encoders 2>/dev/null | grep nvenc\n",
      "\n",
      "For info on using libfdk_aac see here -\n",
      "http://trac.ffmpeg.org/wiki/Encode/AAC\n",
      "\n",
      "Can be used for both 8 & 10 bit x264 encoding with this ppa's libx264, default is 8\n",
      "For 10 bit preload the 10 bit .so first in terminal, eg.,\n",
      "export LD_PRELOAD=/usr/lib/x86_64-linux-gnu/x264-10bit/libx264.so.142\n",
      "or\n",
      "export LD_PRELOAD=/usr/lib/i386-linux-gnu/x264-10bit/libx264.so.142\n",
      "\n",
      "libav - has fdkaac encoding enabled\n",
      "\n",
      "yasm -\n",
      " has been patched to improve compiling x265\n",
      "\n",
      "devede -\n",
      " can use either avconv or ffmpeg from here\n",
      " 1st choice for previewer is mplayer (version here is best\n",
      "\n",
      "K9copy -\n",
      "Mainly for ripping, as far as encoding there are better apps. If inclined to use for encoding then use mencoder as ffmpeg support is quite limited\n",
      "\n",
      "For rhythmbox users a wide range of plugins can be found here -\n",
      "https://launchpad.net/~fossfreedom/+archive/rhythmbox-plugins\n",
      "\n",
      "Abcde -\n",
      "ck. Suggested in synaptic for add. useful packages\n",
      "A guide to config is here -\n",
      "http://www.andrews-corner.org/abcde.html\n",
      "\n",
      "An excellent  audio recorder is available here -\n",
      "https://launchpad.net/~osmoma/+archive/audio-recorder\n",
      "\n",
      "A good blender ppa is here -\n",
      " https://launchpad.net/~irie/+archive/blender\n",
      "\n",
      "To further extend this ppa to libav11 check here -\n",
      "https://launchpad.net/~mc3man/+archive/ubuntu/testing6\n",
      "\n",
      "To repeat -\n",
      "*Please note that if using this ppa I would *not* try upgrading to 14.10/15.04, ect. Do a fresh install instead. The intent here is just for users wishing to stay on 14.04*\n",
      "If upgrading anyway use ppa-purge first -\n",
      "sudo ppa-purge  ppa:mc3man/trusty-media\n",
      "\n",
      "Also note that with apt-get a sudo apt-get dist-upgrade is needed for initial setup & with some package upgrades\n",
      " More info: https://launchpad.net/~mc3man/+archive/ubuntu/trusty-media\n",
      "Press [ENTER] to continue or ctrl-c to cancel adding it\n",
      "^C\n",
      "Traceback (most recent call last):\n",
      "  File \"/usr/bin/add-apt-repository\", line 143, in <module>\n",
      "    sys.stdin.readline()\n",
      "  File \"/usr/lib/python3.5/codecs.py\", line 318, in decode\n",
      "    def decode(self, input, final=False):\n",
      "KeyboardInterrupt\n",
      "Get:1 http://storage.googleapis.com/bazel-apt stable InRelease [2464 B]\n",
      "Get:2 http://storage.googleapis.com/bazel-apt stable/jdk1.8 amd64 Packages [621 B]\n",
      "Hit:3 https://deb.nodesource.com/node_8.x xenial InRelease                     \n",
      "Hit:4 http://archive.ubuntu.com/ubuntu xenial InRelease                        \n",
      "Hit:5 http://ppa.launchpad.net/git-core/ppa/ubuntu xenial InRelease            \n",
      "Get:6 http://security.ubuntu.com/ubuntu xenial-security InRelease [107 kB]     \n",
      "Get:7 http://archive.ubuntu.com/ubuntu xenial-updates InRelease [109 kB]       \n",
      "Ign:8 https://developer.download.nvidia.com/compute/cuda/repos/ubuntu1604/x86_64  InRelease\n",
      "Ign:9 https://developer.download.nvidia.com/compute/machine-learning/repos/ubuntu1604/x86_64  InRelease\n",
      "Hit:10 https://developer.download.nvidia.com/compute/cuda/repos/ubuntu1604/x86_64  Release\n",
      "Hit:11 https://developer.download.nvidia.com/compute/machine-learning/repos/ubuntu1604/x86_64  Release\n",
      "Get:14 http://archive.ubuntu.com/ubuntu xenial-backports InRelease [107 kB]\n",
      "Hit:15 https://packagecloud.io/github/git-lfs/ubuntu xenial InRelease\n",
      "Get:16 http://archive.ubuntu.com/ubuntu xenial-updates/main amd64 Packages [1125 kB]\n",
      "Get:17 http://archive.ubuntu.com/ubuntu xenial-updates/universe amd64 Packages [899 kB]\n",
      "Fetched 2350 kB in 6s (340 kB/s)                                               \n",
      "Reading package lists... Done\n",
      "Reading package lists... Done\n",
      "Building dependency tree       \n",
      "Reading state information... Done\n",
      "Suggested packages:\n",
      "  ffmpeg-doc\n",
      "The following packages will be upgraded:\n",
      "  ffmpeg\n",
      "1 upgraded, 0 newly installed, 0 to remove and 95 not upgraded.\n",
      "Need to get 1289 kB of archives.\n",
      "After this operation, 0 B of additional disk space will be used.\n",
      "Get:1 http://archive.ubuntu.com/ubuntu xenial-updates/universe amd64 ffmpeg amd64 7:2.8.15-0ubuntu0.16.04.1 [1289 kB]\n",
      "62% [1 ffmpeg 994 kB/1289 kB 77%]"
     ]
    }
   ],
   "source": [
    "! sudo add-apt-repository ppa:mc3man/trusty-media  \n",
    "! sudo apt-get update  \n",
    "! sudo apt-get install ffmpeg  \n",
    "! sudo apt-get install frei0r-plugins"
   ]
  },
  {
   "cell_type": "code",
   "execution_count": null,
   "metadata": {},
   "outputs": [],
   "source": [
    "a = nn.Parameter(tensor(-1.,1))\n",
    "\n",
    "fig = plt.figure()\n",
    "plt.scatter(x[:,0], y, c='orange')\n",
    "line, = plt.plot(x[:,0], x@a)\n",
    "plt.close()\n",
    "\n",
    "def animate(i):\n",
    "    update()\n",
    "    line.set_ydata(x@a)\n",
    "    return line,\n",
    "\n",
    "animation.FuncAnimation(fig, animate, np.arange(0, 100), interval=20)"
   ]
  }
 ],
 "metadata": {
  "kernelspec": {
   "display_name": "Python 3",
   "language": "python",
   "name": "python3"
  },
  "language_info": {
   "codemirror_mode": {
    "name": "ipython",
    "version": 3
   },
   "file_extension": ".py",
   "mimetype": "text/x-python",
   "name": "python",
   "nbconvert_exporter": "python",
   "pygments_lexer": "ipython3",
   "version": "3.6.5"
  }
 },
 "nbformat": 4,
 "nbformat_minor": 2
}
